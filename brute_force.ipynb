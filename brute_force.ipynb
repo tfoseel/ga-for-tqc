{
 "cells": [
  {
   "cell_type": "markdown",
   "metadata": {},
   "source": [
    "# Brute-force"
   ]
  },
  {
   "cell_type": "code",
   "execution_count": null,
   "metadata": {},
   "outputs": [],
   "source": [
    "import numpy as np"
   ]
  },
  {
   "cell_type": "markdown",
   "metadata": {},
   "source": [
    "## Experimental settings"
   ]
  },
  {
   "cell_type": "code",
   "execution_count": 9,
   "metadata": {},
   "outputs": [],
   "source": [
    "MAX_LENGTH = 15\n",
    "TARGET_UNITARY = np.array([[0, -1],\n",
    "                           [1,  0]], dtype=complex)"
   ]
  },
  {
   "cell_type": "markdown",
   "metadata": {},
   "source": [
    "## Fitness function"
   ]
  },
  {
   "cell_type": "code",
   "execution_count": null,
   "metadata": {},
   "outputs": [],
   "source": [
    "allowed_indices = [0, 1, 2, 3]\n",
    "inverse_map = {0: 2, 1: 3, 2: 0, 3: 1}\n",
    "\n",
    "phi = (1 + np.sqrt(5)) / 2\n",
    "\n",
    "sigma_1 = np.array([\n",
    "    [np.exp(-4j * np.pi / 5), 0],\n",
    "    [0, np.exp(3j * np.pi / 5)]\n",
    "])\n",
    "sigma_2 = np.array([\n",
    "    [np.exp(4j * np.pi / 5) / phi,\n",
    "     np.exp(-3j * np.pi / 5) / np.sqrt(phi)],\n",
    "    [np.exp(-3j * np.pi / 5) / np.sqrt(phi), -1 / phi]\n",
    "])\n",
    "sigma_1_inv = np.linalg.inv(sigma_1)\n",
    "sigma_2_inv = np.linalg.inv(sigma_2)\n",
    "\n",
    "generators_map = {\n",
    "    0: sigma_1,\n",
    "    1: sigma_2,\n",
    "    2: sigma_1_inv,\n",
    "    3: sigma_2_inv\n",
    "}\n",
    "\n",
    "def fitness(seq, unitary):\n",
    "    \"\"\"\n",
    "    seq의 각 원소는 0,1,2,3 중 하나로, 내부적으로 매핑된 행렬들을 차례대로 곱합니다.\n",
    "    최종적으로 얻은 행렬과 phase-adjusted identity 사이의 Frobenius norm 거리를 반환합니다.\n",
    "    \"\"\"\n",
    "    M = np.array(unitary, copy=True)\n",
    "    for idx in seq:\n",
    "        gate = generators_map[idx]\n",
    "        M = np.dot(M, gate)\n",
    "    trace_M = np.trace(M)\n",
    "    if abs(trace_M) > 1e-12:\n",
    "        phase = trace_M / abs(trace_M)\n",
    "    else:\n",
    "        phase = 1.0\n",
    "    optimal_matrix = phase * np.eye(2, dtype=complex)\n",
    "    distance = np.linalg.norm(M - optimal_matrix, 'fro')\n",
    "    return distance"
   ]
  },
  {
   "cell_type": "markdown",
   "metadata": {},
   "source": [
    "## Brute-force search"
   ]
  },
  {
   "cell_type": "code",
   "execution_count": 11,
   "metadata": {},
   "outputs": [
    {
     "name": "stdout",
     "output_type": "stream",
     "text": [
      "Brute-force 탐색 시작...\n",
      "새로운 best 발견: [0, 0, 0, 0, 0, 0, 0, 0, 0, 0, 0, 0, 0, 0, 0] with fitness = 2.0000000000000004\n",
      "새로운 best 발견: [0, 0, 0, 0, 0, 0, 0, 0, 0, 0, 0, 0, 0, 0, 1] with fitness = 1.4668494320614869\n",
      "새로운 best 발견: [0, 0, 0, 0, 0, 0, 0, 0, 0, 0, 0, 0, 0, 1, 0] with fitness = 1.0046404518819458\n",
      "새로운 best 발견: [0, 0, 0, 0, 0, 0, 0, 0, 0, 0, 0, 0, 0, 3, 0] with fitness = 1.0046404518819456\n",
      "새로운 best 발견: [0, 0, 0, 0, 0, 0, 0, 0, 0, 0, 0, 0, 1, 1, 0] with fitness = 1.0046404518819438\n",
      "새로운 best 발견: [0, 0, 0, 0, 0, 0, 0, 0, 0, 0, 1, 2, 3, 0, 1] with fitness = 1.0046404518819436\n",
      "새로운 best 발견: [0, 0, 0, 0, 0, 0, 0, 0, 0, 1, 0, 0, 3, 0, 0] with fitness = 0.5507218106069718\n",
      "새로운 best 발견: [0, 0, 0, 0, 0, 0, 0, 0, 0, 1, 0, 3, 0, 3, 0] with fitness = 0.5507218106069716\n",
      "새로운 best 발견: [0, 0, 0, 0, 0, 0, 0, 0, 0, 1, 1, 0, 3, 3, 3] with fitness = 0.5507218106069702\n",
      "새로운 best 발견: [0, 0, 0, 0, 0, 0, 0, 0, 0, 1, 1, 2, 3, 0, 3] with fitness = 0.55072181060697\n",
      "새로운 best 발견: [0, 0, 0, 0, 0, 0, 0, 1, 0, 0, 0, 3, 0, 3, 3] with fitness = 0.3696331285925701\n",
      "새로운 best 발견: [0, 0, 0, 0, 0, 0, 0, 1, 1, 2, 1, 1, 0, 3, 0] with fitness = 0.3696331285925699\n",
      "새로운 best 발견: [0, 0, 0, 0, 0, 0, 0, 1, 2, 3, 3, 0, 3, 3, 0] with fitness = 0.3696331285925698\n",
      "새로운 best 발견: [0, 0, 0, 0, 0, 0, 1, 1, 0, 3, 3, 0, 0, 0, 3] with fitness = 0.18336706820226917\n",
      "새로운 best 발견: [0, 0, 0, 0, 0, 0, 1, 2, 1, 0, 3, 0, 0, 0, 3] with fitness = 0.18336706820226914\n",
      "새로운 best 발견: [0, 0, 0, 0, 0, 0, 1, 2, 2, 1, 0, 0, 0, 0, 3] with fitness = 0.183367068202269\n",
      "새로운 best 발견: [0, 0, 0, 0, 0, 0, 1, 2, 2, 2, 2, 3, 0, 0, 3] with fitness = 0.1833670682022689\n",
      "새로운 best 발견: [0, 0, 0, 0, 3, 3, 3, 0, 1, 2, 3, 0, 0, 3, 2] with fitness = 0.18336706820226858\n",
      "새로운 best 발견: [0, 1, 0, 0, 0, 3, 3, 3, 3, 0, 0, 0, 0, 3, 3] with fitness = 0.18336706820226853\n",
      "새로운 best 발견: [0, 3, 3, 0, 1, 1, 1, 1, 1, 1, 0, 3, 3, 3, 3] with fitness = 0.18336706820226845\n",
      "새로운 best 발견: [0, 3, 3, 0, 1, 1, 1, 2, 3, 0, 3, 3, 3, 3, 3] with fitness = 0.18336706820226842\n",
      "새로운 best 발견: [0, 3, 3, 0, 1, 2, 3, 0, 0, 0, 3, 3, 3, 3, 3] with fitness = 0.18336706820226834\n",
      "새로운 best 발견: [0, 3, 3, 3, 3, 2, 1, 1, 2, 3, 3, 3, 3, 3, 3] with fitness = 0.183367068202268\n",
      "\n",
      "총 생성된 시퀀스 개수: 19131876\n",
      "최종 best sequence: [0, 3, 3, 3, 3, 2, 1, 1, 2, 3, 3, 3, 3, 3, 3]\n",
      "최종 best fitness: 0.183367068202268\n"
     ]
    }
   ],
   "source": [
    "def generate_sequences(current_seq, length):\n",
    "    \"\"\"\n",
    "    current_seq를 시작으로 하여, 총 길이 length인 시퀀스를 재귀적으로 생성합니다.\n",
    "    단, 인접한 두 원소가 서로의 역원이 되는 경우(예: 0 다음에 2, 2 다음에 0, 1 다음에 3, 3 다음에 1)는 배제합니다.\n",
    "    \"\"\"\n",
    "    if len(current_seq) == length:\n",
    "        yield current_seq\n",
    "    else:\n",
    "        for x in allowed_indices:\n",
    "            # 만약 current_seq가 비어있거나, 마지막 원소와 x가 역원 관계가 아니라면\n",
    "            if not current_seq or x != inverse_map[current_seq[-1]]:\n",
    "                yield from generate_sequences(current_seq + [x], length)\n",
    "\n",
    "# --- brute-force 탐색 ---\n",
    "best_seq = None\n",
    "best_fit = float('inf')\n",
    "total_count = 0\n",
    "\n",
    "print(\"Brute-force 탐색 시작...\")\n",
    "for seq in generate_sequences([], MAX_LENGTH):\n",
    "    total_count += 1\n",
    "    f_val = fitness(seq, TARGET_UNITARY)\n",
    "    if f_val < best_fit:\n",
    "        best_fit = f_val\n",
    "        best_seq = seq\n",
    "        print(f\"새로운 best 발견: {best_seq} with fitness = {best_fit}\")\n",
    "        \n",
    "print(\"\\n총 생성된 시퀀스 개수:\", total_count)\n",
    "print(\"최종 best sequence:\", best_seq)\n",
    "print(\"최종 best fitness:\", best_fit)\n"
   ]
  }
 ],
 "metadata": {
  "kernelspec": {
   "display_name": "Python 3",
   "language": "python",
   "name": "python3"
  },
  "language_info": {
   "codemirror_mode": {
    "name": "ipython",
    "version": 3
   },
   "file_extension": ".py",
   "mimetype": "text/x-python",
   "name": "python",
   "nbconvert_exporter": "python",
   "pygments_lexer": "ipython3",
   "version": "3.11.3"
  }
 },
 "nbformat": 4,
 "nbformat_minor": 2
}
